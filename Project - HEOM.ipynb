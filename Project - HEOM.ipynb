{
 "cells": [
  {
   "cell_type": "code",
   "execution_count": 1,
   "id": "9ed685e3",
   "metadata": {},
   "outputs": [],
   "source": [
    "import itertools"
   ]
  },
  {
   "cell_type": "code",
   "execution_count": 30,
   "id": "c14154f0",
   "metadata": {},
   "outputs": [
    {
     "data": {
      "text/plain": [
       "(0, 0)"
      ]
     },
     "execution_count": 30,
     "metadata": {},
     "output_type": "execute_result"
    }
   ],
   "source": [
    "#A function that takes a parameter of a pair OR the index AND N\n",
    "#And can return a pair when index is in input\n",
    "#Or can return a index when a pair is in input\n",
    "def function(N,pair=(0.1,0.1),index=0.1): #These are default values to check if the right parameters are being used\n",
    "    N=2\n",
    "    elements=[]\n",
    "    for i in range(N+1):\n",
    "        elements.append(i)\n",
    "        \n",
    "    all_pairs = list(itertools.product(elements, repeat=2))\n",
    "    filtered_pairs = [pair for pair in all_pairs if sum(pair) <= 2 ]\n",
    "    \n",
    "    if pair==(0.1,0.1) and index==0.1:\n",
    "        return \"error --> please enter a valid pair or an index value\"\n",
    "    elif pair!=(0.1,0.1) and index==0.1: #return the index #inputs are [(0, 0), (0, 1), (0, 2), (1, 0), (1, 1), (2, 0)]\n",
    "        for indexx, element in enumerate(filtered_pairs):\n",
    "            if element==pair:\n",
    "                return indexx\n",
    "    elif pair==(0.1,0.1) and index!=0.1: #return the pair # inputs are 0,1,2,3,4,5\n",
    "        for indexx, element in enumerate(filtered_pairs):\n",
    "            if indexx==index:\n",
    "                return element\n"
   ]
  },
  {
   "cell_type": "code",
   "execution_count": null,
   "id": "3d6456ab",
   "metadata": {},
   "outputs": [],
   "source": []
  }
 ],
 "metadata": {
  "kernelspec": {
   "display_name": "Python 3 (ipykernel)",
   "language": "python",
   "name": "python3"
  },
  "language_info": {
   "codemirror_mode": {
    "name": "ipython",
    "version": 3
   },
   "file_extension": ".py",
   "mimetype": "text/x-python",
   "name": "python",
   "nbconvert_exporter": "python",
   "pygments_lexer": "ipython3",
   "version": "3.9.7"
  }
 },
 "nbformat": 4,
 "nbformat_minor": 5
}
