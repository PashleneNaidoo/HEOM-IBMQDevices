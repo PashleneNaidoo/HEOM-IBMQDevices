{
 "cells": [
  {
   "cell_type": "code",
   "execution_count": 148,
   "id": "a189c2fb",
   "metadata": {},
   "outputs": [],
   "source": [
    "import numpy as np\n",
    "import matplotlib.pyplot as plt\n",
    "\n",
    "\n",
    "\n",
    "t_i = 0 # intial time\n",
    "t_f = 1000#final time\n",
    "nsteps = 10**4# number of steps between intial and final times\n",
    "time = np.linspace(0,t_f, nsteps)\n",
    "#xd = time/1e3\n",
    "\n",
    "h = (t_f-t_i)/nsteps # increments\n",
    "\n",
    "# Defining Parameters\n",
    "T = 1000  # time of evolution\n",
    "dt = 0.1 # time step discretization\n",
    "w = 100  # cm^-1 delta omega\n",
    "N = 2   \n",
    "J = 100 # cm^-1 constant of interaction\n",
    "gamma = 53.08  # cm^-1 gamma from spectral density from Kimara's paper\n",
    "lam = J/5# cm^-1 lambda from spectral density\n",
    "kT = 208.509  # cm^-1 T=300K 1/beta\n",
    "L = 4  # number of terms in exponential expansion\n",
    "fs = 0.0001836  # factor for transition times into femtoseconds\n",
    "#h_bar=1.054571817*(10**(-34))*fs\n",
    "\n",
    "# Set Matrices for HEOM\n",
    "id4 = fs * np.array([[1, 0, 0, 0], [0, 1, 0, 0], [0, 0, 1, 0], [0, 0, 0, 1]])\n",
    "elev = fs * complex(0, 1) * np.array([[0, J, -J, 0], [J, -w, 0, -J], [-J, 0, w, J], [0, -J, J, 0]])\n",
    "Phi1 = fs  * np.array([[0, 0, 0, 0], [0, 1j, 0, 0], [0, 0, -1j, 0], [0, 0, 0, 0]])\n",
    "Phi2 = fs  * np.array([[0, 0, 0, 0], [0, -1j, 0, 0], [0, 0, 1j, 0], [0, 0, 0, 0]])\n",
    "x = 2 *lam*kT\n",
    "y = lam*gamma\n",
    "Theta1 = fs * np.array([[2*y, 0, 0, 0], [0, complex(y, x), 0, 0], [0, 0, complex(y, -x), 0], [0, 0, 0, 0]])\n",
    "Theta2 = fs * np.array([[0, 0, 0, 0], [0, complex(y, -x), 0, 0], [0, 0, complex(y, x), 0], [0, 0, 0, 2*y]])\n",
    "\n",
    "Nmax = 6  # number of density matrices for N=2\n"
   ]
  },
  {
   "cell_type": "code",
   "execution_count": 149,
   "id": "c4f23b49",
   "metadata": {},
   "outputs": [
    {
     "name": "stdout",
     "output_type": "stream",
     "text": [
      "[[0.0001836 0.        0.        0.       ]\n",
      " [0.        0.0001836 0.        0.       ]\n",
      " [0.        0.        0.0001836 0.       ]\n",
      " [0.        0.        0.        0.0001836]]\n"
     ]
    }
   ],
   "source": [
    "print(id4)"
   ]
  },
  {
   "cell_type": "code",
   "execution_count": 150,
   "id": "3c74c3cb",
   "metadata": {},
   "outputs": [
    {
     "name": "stdout",
     "output_type": "stream",
     "text": [
      "(3+4j)\n"
     ]
    }
   ],
   "source": [
    "z = complex(3, 4)\n",
    "print(z)\n"
   ]
  },
  {
   "cell_type": "code",
   "execution_count": 151,
   "id": "823dcce0",
   "metadata": {},
   "outputs": [],
   "source": [
    "def Heom():\n",
    "    current_state=np.zeros((Nmax,4,1), dtype=complex)\n",
    "    prev=np.zeros((Nmax,4,1), dtype=complex)\n",
    "    \n",
    "    current_state[0,0]=1.0 # inital value for p\n",
    "    prev[0]=current_state[0]\n",
    "\n",
    "    p_matrix=np.zeros((nsteps,4,1),dtype=complex) # matrix that stores the matrices for d/dt(p)(results)\n",
    "    p_matrix[0]=current_state[0]\n",
    "    \n",
    "    for index in range(1, len(time)):\n",
    "        current_state[0] = prev[0] + h*(np.dot(elev, prev[0]) + np.dot(Phi1, prev[1]) + np.dot(Phi2, prev[2]))\n",
    "        p_matrix[index]=current_state[0] \n",
    "        current_state[1] = prev[1] + h*(np.dot(elev - gamma * id4, prev[1]) + np.dot(Phi2, prev[5]) + np.dot(Phi1, prev[3]) + np.dot(Theta1, prev[0]))\n",
    "        current_state[2] = prev[2] + h*(np.dot(elev - gamma * id4, prev[2]) + np.dot(Phi1, prev[5]) + np.dot(Phi2, prev[4]) + np.dot(Theta2, prev[0]))\n",
    "        current_state[3] = prev[3] + h*(np.dot(elev, prev[3]))\n",
    "        current_state[4] = prev[4] + h*(np.dot(elev, prev[4]))\n",
    "        current_state[5] = prev[5] + h*(np.dot(elev, prev[5]))\n",
    "        prev=current_state\n",
    "        \n",
    "    return p_matrix\n",
    "        "
   ]
  },
  {
   "cell_type": "code",
   "execution_count": 155,
   "id": "f66e90f3",
   "metadata": {},
   "outputs": [
    {
     "name": "stdout",
     "output_type": "stream",
     "text": [
      "[[[ 1.00000000e+00+0.00000000e+00j]\n",
      "  [ 0.00000000e+00+0.00000000e+00j]\n",
      "  [ 0.00000000e+00+0.00000000e+00j]\n",
      "  [ 0.00000000e+00+0.00000000e+00j]]\n",
      "\n",
      " [[ 1.00000000e+00+0.00000000e+00j]\n",
      "  [ 0.00000000e+00+1.83600000e-03j]\n",
      "  [ 0.00000000e+00-1.83600000e-03j]\n",
      "  [ 0.00000000e+00+0.00000000e+00j]]\n",
      "\n",
      " [[ 9.99993258e-01+0.00000000e+00j]\n",
      "  [ 3.37089600e-06+3.67200000e-03j]\n",
      "  [ 3.37089600e-06-3.67200000e-03j]\n",
      "  [ 6.74179200e-06+0.00000000e+00j]]\n",
      "\n",
      " ...\n",
      "\n",
      " [[ 3.97994685e-01+0.00000000e+00j]\n",
      "  [-1.95345001e-01+5.49517220e-05j]\n",
      "  [-1.95345001e-01-5.49517220e-05j]\n",
      "  [ 6.02005315e-01+0.00000000e+00j]]\n",
      "\n",
      " [[ 3.97994483e-01+0.00000000e+00j]\n",
      "  [-1.95358574e-01+5.87804853e-05j]\n",
      "  [-1.95358574e-01-5.87804853e-05j]\n",
      "  [ 6.02005517e-01+0.00000000e+00j]]\n",
      "\n",
      " [[ 3.97994267e-01+0.00000000e+00j]\n",
      "  [-1.95372158e-01+6.26389669e-05j]\n",
      "  [-1.95372158e-01-6.26389669e-05j]\n",
      "  [ 6.02005733e-01+0.00000000e+00j]]]\n"
     ]
    }
   ],
   "source": [
    "sol=Heom()\n",
    "print(sol)"
   ]
  },
  {
   "cell_type": "code",
   "execution_count": 153,
   "id": "383f8b6b",
   "metadata": {},
   "outputs": [
    {
     "name": "stdout",
     "output_type": "stream",
     "text": [
      "[1.        +0.j 1.        +0.j 0.99999326+0.j ... 0.39799468+0.j\n",
      " 0.39799448+0.j 0.39799427+0.j]\n"
     ]
    }
   ],
   "source": [
    "data1=sol[:,0,0]\n",
    "print(data1)"
   ]
  },
  {
   "cell_type": "code",
   "execution_count": 154,
   "id": "1f52ead9",
   "metadata": {},
   "outputs": [
    {
     "data": {
      "image/png": "[encoded data removed]",
      "text/plain": [
       "<Figure size 432x360 with 1 Axes>"
      ]
     },
     "metadata": {
      "needs_background": "light"
     },
     "output_type": "display_data"
    }
   ],
   "source": [
    "plt.figure(figsize=(6, 5))\n",
    "plt.plot(time, np.real(data1), label='Set 1') \n",
    "\n",
    "# Add labels and a legend\n",
    "plt.xlabel('Time')\n",
    "plt.ylabel('P(1)')\n",
    "plt.title('J')\n",
    "plt.legend()\n",
    "\n",
    "# Show the plot\n",
    "plt.grid(True)  \n",
    "plt.show()"
   ]
  },
  {
   "cell_type": "code",
   "execution_count": null,
   "id": "6cdcf259",
   "metadata": {},
   "outputs": [],
   "source": []
  },
  {
   "cell_type": "code",
   "execution_count": 73,
   "id": "37d38ed7",
   "metadata": {},
   "outputs": [],
   "source": [
    "def multM(xc):\n",
    "    xnew=xc.copy()\n",
    "    xnew[0] = np.dot(elev, xc[0]) + np.dot(Phi1, xc[1]) + np.dot(Phi2, xc[2])\n",
    "    xnew[1] = np.dot(elev - gamma * id4, xc[1]) + np.dot(Phi2, xc[5]) + np.dot(Phi1, xc[3]) + np.dot(Theta1, xc[0])\n",
    "    xnew[2] = np.dot(elev - gamma * id4, xc[2]) + np.dot(Phi1, xc[5]) + np.dot(Phi2, xc[4]) + np.dot(Theta2, xc[0])\n",
    "    xnew[3] = np.dot(elev, xc[3])\n",
    "    xnew[4] = np.dot(elev, xc[4])\n",
    "    xnew[5] = np.dot(elev, xc[5])\n",
    "    \n",
    "    return xnew;"
   ]
  },
  {
   "cell_type": "code",
   "execution_count": null,
   "id": "54f8c2ce",
   "metadata": {},
   "outputs": [],
   "source": [
    "\n"
   ]
  },
  {
   "cell_type": "code",
   "execution_count": 74,
   "id": "05ed16d8",
   "metadata": {},
   "outputs": [
    {
     "name": "stderr",
     "output_type": "stream",
     "text": [
      "/opt/anaconda3/lib/python3.9/site-packages/matplotlib/cbook/__init__.py:1333: ComplexWarning: Casting complex values to real discards the imaginary part\n",
      "  return np.asarray(x, float)\n"
     ]
    },
    {
     "data": {
      "text/plain": [
       "(0.0, 1.0)"
      ]
     },
     "execution_count": 74,
     "metadata": {},
     "output_type": "execute_result"
    },
    {
     "data": {
      "image/png": "[encoded data removed]",
      "text/plain": [
       "<Figure size 432x288 with 1 Axes>"
      ]
     },
     "metadata": {
      "needs_background": "light"
     },
     "output_type": "display_data"
    }
   ],
   "source": [
    "for i in range(LT - 2):  # Changed LT - 2 to LT - 1\n",
    "    # do step of evolution of HEOM\n",
    "    rhotd = rhot.copy()\n",
    "\n",
    "    # RUNGE KUTTE 4TH ORDER METHOD\n",
    "    k1 = dt * multM(rhotd)\n",
    "    k2 = dt * multM(rhotd + k1 / 2)\n",
    "    k3 = dt * multM(rhotd + k2 / 2)\n",
    "    k4 = dt * multM(rhotd + k3)\n",
    "\n",
    "    rhot += (k1 + 2 * k2 + 2 * k3 + k4) / 6\n",
    "\n",
    "    # Plotting the first site\n",
    "    rhoevol[i + 1, :-1] = rhot[0, :]\n",
    "\n",
    "plt.plot(rhoevol[:, 4], rhoevol[:, 0])\n",
    "plt.xlabel('time (fs)')\n",
    "plt.ylabel('population')\n",
    "plt.title( \"$\\lambda$ = J\")\n",
    "plt.xlim(0, 1000)\n",
    "plt.ylim(0,1)\n",
    "\n",
    "#end = time.time()\n"
   ]
  },
  {
   "cell_type": "code",
   "execution_count": null,
   "id": "e148d9f1",
   "metadata": {},
   "outputs": [],
   "source": []
  }
 ],
 "metadata": {
  "kernelspec": {
   "display_name": "Python 3 (ipykernel)",
   "language": "python",
   "name": "python3"
  },
  "language_info": {
   "codemirror_mode": {
    "name": "ipython",
    "version": 3
   },
   "file_extension": ".py",
   "mimetype": "text/x-python",
   "name": "python",
   "nbconvert_exporter": "python",
   "pygments_lexer": "ipython3",
   "version": "3.9.7"
  }
 },
 "nbformat": 4,
 "nbformat_minor": 5
}
