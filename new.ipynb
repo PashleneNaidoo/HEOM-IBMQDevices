{
 "cells": [
  {
   "cell_type": "code",
   "execution_count": 2,
   "id": "46e170f7",
   "metadata": {},
   "outputs": [],
   "source": [
    "import numpy as np\n",
    "import matplotlib.pyplot as plt\n",
    "\n",
    "\n",
    "\n",
    "t_i = 0 # intial time\n",
    "t_f = 1000#final time\n",
    "nsteps = 10**4# number of steps between intial and final times\n",
    "time = np.linspace(0,t_f, nsteps)\n",
    "#xd = time/1e3\n",
    "\n",
    "h = (t_f-t_i)/nsteps # increments\n",
    "\n",
    "# Defining Parameters\n",
    "T = 1000  # time of evolution\n",
    "dt = 0.1 # time step discretization\n",
    "w = 100  # cm^-1 delta omega\n",
    "N = 2   \n",
    "J = 100 # cm^-1 constant of interaction\n",
    "gamma = 53.08  # cm^-1 gamma from spectral density from Kimara's paper\n",
    "lam = J/5# cm^-1 lambda from spectral density\n",
    "kT = 208.509  # cm^-1 T=300K 1/beta\n",
    "L = 4  # number of terms in exponential expansion\n",
    "fs = 0.0001836  # factor for transition times into femtoseconds\n",
    "#h_bar=1.054571817*(10**(-34))*fs\n",
    "\n",
    "# Set Matrices for HEOM\n",
    "id4 = fs * np.array([[1, 0, 0, 0], [0, 1, 0, 0], [0, 0, 1, 0], [0, 0, 0, 1]])\n",
    "L = fs * complex(0, 1) * np.array([[0, J, -J, 0], [J, -w, 0, -J], [-J, 0, w, J], [0, -J, J, 0]])\n",
    "Phi1 = fs  * np.array([[0, 0, 0, 0], [0, 1j, 0, 0], [0, 0, -1j, 0], [0, 0, 0, 0]])\n",
    "Phi2 = fs  * np.array([[0, 0, 0, 0], [0, -1j, 0, 0], [0, 0, 1j, 0], [0, 0, 0, 0]])\n",
    "x = 2 *lam*kT\n",
    "y = lam*gamma\n",
    "Theta1 = fs * np.array([[2*y, 0, 0, 0], [0, complex(y, x), 0, 0], [0, 0, complex(y, -x), 0], [0, 0, 0, 0]])\n",
    "Theta2 = fs * np.array([[0, 0, 0, 0], [0, complex(y, -x), 0, 0], [0, 0, complex(y, x), 0], [0, 0, 0, 2*y]])\n",
    "\n",
    "Nmax = 6  # number of density matrices for N=2"
   ]
  },
  {
   "cell_type": "code",
   "execution_count": 3,
   "id": "6b3fd789",
   "metadata": {},
   "outputs": [],
   "source": [
    "def Heom():\n",
    "    current_state=np.zeros((Nmax,4,1), dtype=complex)\n",
    "    prev=np.zeros((Nmax,4,1), dtype=complex)\n",
    "    \n",
    "    current_state[0,0]=1.0 # inital value for p\n",
    "    prev[0]=current_state[0]\n",
    "\n",
    "    p_matrix=np.zeros((nsteps,4,1),dtype=complex) # matrix that stores the matrices for d/dt(p)(results)\n",
    "    p_matrix[0]=current_state[0]\n",
    "    \n",
    "    for index in range(1, len(time)):\n",
    "        current_state[0] = prev[0] + h*(np.dot(L, prev[0]) + np.dot(Phi1, prev[1]) + np.dot(Phi2, prev[2]))\n",
    "        p_matrix[index]=current_state[0] \n",
    "        current_state[1] = prev[1] + h*(np.dot(L - gamma * id4, prev[1]) + np.dot(Phi2, prev[5]) + np.dot(Phi1, prev[3]) + np.dot(Theta1, prev[0]))\n",
    "        current_state[2] = prev[2] + h*(np.dot(L - gamma * id4, prev[2]) + np.dot(Phi1, prev[5]) + np.dot(Phi2, prev[4]) + np.dot(Theta2, prev[0]))\n",
    "        current_state[3] = prev[3] + h*(np.dot(L, prev[3]))\n",
    "        current_state[4] = prev[4] + h*(np.dot(L, prev[4]))\n",
    "        current_state[5] = prev[5] + h*(np.dot(L, prev[5]))\n",
    "        prev=current_state\n",
    "        \n",
    "    return p_matrix\n",
    "        "
   ]
  },
  {
   "cell_type": "code",
   "execution_count": 4,
   "id": "8eba77cf",
   "metadata": {},
   "outputs": [
    {
     "name": "stdout",
     "output_type": "stream",
     "text": [
      "[[[ 1.00000000e+00+0.00000000e+00j]\n",
      "  [ 0.00000000e+00+0.00000000e+00j]\n",
      "  [ 0.00000000e+00+0.00000000e+00j]\n",
      "  [ 0.00000000e+00+0.00000000e+00j]]\n",
      "\n",
      " [[ 1.00000000e+00+0.00000000e+00j]\n",
      "  [ 0.00000000e+00+1.83600000e-03j]\n",
      "  [ 0.00000000e+00-1.83600000e-03j]\n",
      "  [ 0.00000000e+00+0.00000000e+00j]]\n",
      "\n",
      " [[ 9.99993258e-01+0.00000000e+00j]\n",
      "  [ 3.37089600e-06+3.67200000e-03j]\n",
      "  [ 3.37089600e-06-3.67200000e-03j]\n",
      "  [ 6.74179200e-06+0.00000000e+00j]]\n",
      "\n",
      " ...\n",
      "\n",
      " [[ 3.97994685e-01+0.00000000e+00j]\n",
      "  [-1.95345001e-01+5.49517220e-05j]\n",
      "  [-1.95345001e-01-5.49517220e-05j]\n",
      "  [ 6.02005315e-01+0.00000000e+00j]]\n",
      "\n",
      " [[ 3.97994483e-01+0.00000000e+00j]\n",
      "  [-1.95358574e-01+5.87804853e-05j]\n",
      "  [-1.95358574e-01-5.87804853e-05j]\n",
      "  [ 6.02005517e-01+0.00000000e+00j]]\n",
      "\n",
      " [[ 3.97994267e-01+0.00000000e+00j]\n",
      "  [-1.95372158e-01+6.26389669e-05j]\n",
      "  [-1.95372158e-01-6.26389669e-05j]\n",
      "  [ 6.02005733e-01+0.00000000e+00j]]]\n"
     ]
    }
   ],
   "source": [
    "sol=Heom()\n",
    "print(sol)"
   ]
  },
  {
   "cell_type": "code",
   "execution_count": 5,
   "id": "e5cd2bfd",
   "metadata": {},
   "outputs": [
    {
     "name": "stdout",
     "output_type": "stream",
     "text": [
      "[1.        +0.j 1.        +0.j 0.99999326+0.j ... 0.39799468+0.j\n",
      " 0.39799448+0.j 0.39799427+0.j]\n"
     ]
    }
   ],
   "source": [
    "data1=sol[:,0,0]\n",
    "print(data1)"
   ]
  },
  {
   "cell_type": "code",
   "execution_count": 6,
   "id": "e8fbf69f",
   "metadata": {},
   "outputs": [
    {
     "data": {
      "image/png": "[encoded data removed]",
      "text/plain": [
       "<Figure size 432x360 with 1 Axes>"
      ]
     },
     "metadata": {
      "needs_background": "light"
     },
     "output_type": "display_data"
    }
   ],
   "source": [
    "plt.figure(figsize=(6, 5))\n",
    "plt.plot(time, np.real(data1), label='Set 1') \n",
    "\n",
    "# Add labels and a legend\n",
    "plt.xlabel('Time')\n",
    "plt.ylabel('P(1)')\n",
    "plt.title('J')\n",
    "plt.legend()\n",
    "\n",
    "# Show the plot\n",
    "plt.grid(True)  \n",
    "plt.show()"
   ]
  },
  {
   "cell_type": "code",
   "execution_count": 16,
   "id": "4f410832",
   "metadata": {},
   "outputs": [
    {
     "name": "stdout",
     "output_type": "stream",
     "text": [
      "[[[1.+0.j 0.+0.j 0.+0.j 0.+0.j]\n",
      "  [0.+0.j 0.+0.j 0.+0.j 0.+0.j]\n",
      "  [0.+0.j 0.+0.j 0.+0.j 0.+0.j]\n",
      "  [0.+0.j 0.+0.j 0.+0.j 0.+0.j]]\n",
      "\n",
      " [[1.+0.j 0.+0.j 0.+0.j 0.+0.j]\n",
      "  [0.+0.j 0.+0.j 0.+0.j 0.+0.j]\n",
      "  [0.+0.j 0.+0.j 0.+0.j 0.+0.j]\n",
      "  [0.+0.j 0.+0.j 0.+0.j 0.+0.j]]\n",
      "\n",
      " [[1.+0.j 0.+0.j 0.+0.j 0.+0.j]\n",
      "  [0.+0.j 0.+0.j 0.+0.j 0.+0.j]\n",
      "  [0.+0.j 0.+0.j 0.+0.j 0.+0.j]\n",
      "  [0.+0.j 0.+0.j 0.+0.j 0.+0.j]]\n",
      "\n",
      " ...\n",
      "\n",
      " [[1.+0.j 0.+0.j 0.+0.j 0.+0.j]\n",
      "  [0.+0.j 0.+0.j 0.+0.j 0.+0.j]\n",
      "  [0.+0.j 0.+0.j 0.+0.j 0.+0.j]\n",
      "  [0.+0.j 0.+0.j 0.+0.j 0.+0.j]]\n",
      "\n",
      " [[1.+0.j 0.+0.j 0.+0.j 0.+0.j]\n",
      "  [0.+0.j 0.+0.j 0.+0.j 0.+0.j]\n",
      "  [0.+0.j 0.+0.j 0.+0.j 0.+0.j]\n",
      "  [0.+0.j 0.+0.j 0.+0.j 0.+0.j]]\n",
      "\n",
      " [[1.+0.j 0.+0.j 0.+0.j 0.+0.j]\n",
      "  [0.+0.j 0.+0.j 0.+0.j 0.+0.j]\n",
      "  [0.+0.j 0.+0.j 0.+0.j 0.+0.j]\n",
      "  [0.+0.j 0.+0.j 0.+0.j 0.+0.j]]]\n"
     ]
    }
   ],
   "source": [
    "M = np.empty((6, 6), dtype=object)\n",
    "zero=np.array([[0,0,0,0],[0,0,0,0],[0,0,0,0],[0,0,0,0]],dtype=complex)\n",
    "\n",
    "M[0,0]=L\n",
    "M[0,1]=Phi2\n",
    "M[0,2]=Phi1\n",
    "M[0,3]=zero\n",
    "M[0,4]=zero\n",
    "M[0,5]=zero\n",
    "\n",
    "M[1,0]=Theta2\n",
    "M[1,1]= L - gamma*id4\n",
    "M[1,2]=zero\n",
    "M[1,3]=Phi2\n",
    "M[1,4]=Phi1\n",
    "M[1,5]=zero\n",
    "\n",
    "M[2,0]=Theta1\n",
    "M[2,1]=zero\n",
    "M[2,2]=L - gamma*id4\n",
    "M[2,3]=zero\n",
    "M[2,4]=Phi2\n",
    "M[2,5]=Phi1\n",
    "\n",
    "M[3,0]=zero\n",
    "M[3,1]=zero\n",
    "M[3,2]=zero\n",
    "M[3,3]=L\n",
    "M[3,4]=zero\n",
    "M[3,5]=zero\n",
    "\n",
    "M[4,0]=zero\n",
    "M[4,1]=zero\n",
    "M[4,2]=zero\n",
    "M[4,3]=zero\n",
    "M[4,4]=L\n",
    "M[4,5]=zero\n",
    "\n",
    "M[5,0]=zero\n",
    "M[5,1]=zero\n",
    "M[5,2]=zero\n",
    "M[5,3]=zero\n",
    "M[5,4]=zero\n",
    "M[5,5]=L\n",
    "\n",
    "# Initialize dm and x\n",
    "dm = np.empty((6, 1), dtype=object)\n",
    "for i in range(6):\n",
    "    dm[i, 0] = np.zeros((4, 4), dtype=complex)\n",
    "\n",
    "# Set the initial value in the 4x4 matrix of the first element\n",
    "dm[0, 0][0, 0] = 1.0\n",
    "\n",
    "x = np.empty((6, 1), dtype=object)\n",
    "for i in range(6):\n",
    "    x[i, 0] = dm[i, 0]\n",
    "\n",
    "prev = x\n",
    "p = np.zeros((nsteps, 4, 4), dtype=complex)\n",
    "p[0] = dm[0, 0]\n",
    "\n",
    "for index in range(1, nsteps):\n",
    "    dm = prev + h * np.dot(M, prev)\n",
    "    p[index] = dm[0, 0]  # Store the first 4x4 matrix in the dm array\n",
    "    prev = dm\n",
    "\n",
    "    \n",
    "    \n"
   ]
  },
  {
   "cell_type": "code",
   "execution_count": null,
   "id": "9c4f1b2a",
   "metadata": {},
   "outputs": [],
   "source": []
  },
  {
   "cell_type": "code",
   "execution_count": null,
   "id": "decebd04",
   "metadata": {},
   "outputs": [],
   "source": []
  }
 ],
 "metadata": {
  "kernelspec": {
   "display_name": "Python 3 (ipykernel)",
   "language": "python",
   "name": "python3"
  },
  "language_info": {
   "codemirror_mode": {
    "name": "ipython",
    "version": 3
   },
   "file_extension": ".py",
   "mimetype": "text/x-python",
   "name": "python",
   "nbconvert_exporter": "python",
   "pygments_lexer": "ipython3",
   "version": "3.9.7"
  }
 },
 "nbformat": 4,
 "nbformat_minor": 5
}
