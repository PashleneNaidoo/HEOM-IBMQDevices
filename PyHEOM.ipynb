{
  "nbformat": 4,
  "nbformat_minor": 0,
  "metadata": {
    "colab": {
      "provenance": [],
      "authorship_tag": "ABX9TyP8fWdOv8jet1bfOA/vSrfw",
      "include_colab_link": true
    },
    "kernelspec": {
      "name": "python3",
      "display_name": "Python 3"
    },
    "language_info": {
      "name": "python"
    },
    "widgets": {
      "application/vnd.jupyter.widget-state+json": {
        "9b9812696cb6482da4a818b9639f1dfe": {
          "model_module": "@jupyter-widgets/controls",
          "model_name": "HBoxModel",
          "model_module_version": "1.5.0",
          "state": {
            "_dom_classes": [],
            "_model_module": "@jupyter-widgets/controls",
            "_model_module_version": "1.5.0",
            "_model_name": "HBoxModel",
            "_view_count": null,
            "_view_module": "@jupyter-widgets/controls",
            "_view_module_version": "1.5.0",
            "_view_name": "HBoxView",
            "box_style": "",
            "children": [
              "IPY_MODEL_aa71988dd0cb4b16b7ac95a089ca53b6",
              "IPY_MODEL_7694adcb481f49db80a0453f05fe5cb7",
              "IPY_MODEL_945b48148d8847219b894d41b1f6e59f"
            ],
            "layout": "IPY_MODEL_ed5902df13d543e9b5694714f0ef137c"
          }
        },
        "aa71988dd0cb4b16b7ac95a089ca53b6": {
          "model_module": "@jupyter-widgets/controls",
          "model_name": "HTMLModel",
          "model_module_version": "1.5.0",
          "state": {
            "_dom_classes": [],
            "_model_module": "@jupyter-widgets/controls",
            "_model_module_version": "1.5.0",
            "_model_name": "HTMLModel",
            "_view_count": null,
            "_view_module": "@jupyter-widgets/controls",
            "_view_module_version": "1.5.0",
            "_view_name": "HTMLView",
            "description": "",
            "description_tooltip": null,
            "layout": "IPY_MODEL_92902824aa6a436b820c4c9536b7ae97",
            "placeholder": "​",
            "style": "IPY_MODEL_edb5b5e474d74744874d4bb0fd7d9203",
            "value": "100%"
          }
        },
        "7694adcb481f49db80a0453f05fe5cb7": {
          "model_module": "@jupyter-widgets/controls",
          "model_name": "FloatProgressModel",
          "model_module_version": "1.5.0",
          "state": {
            "_dom_classes": [],
            "_model_module": "@jupyter-widgets/controls",
            "_model_module_version": "1.5.0",
            "_model_name": "FloatProgressModel",
            "_view_count": null,
            "_view_module": "@jupyter-widgets/controls",
            "_view_module_version": "1.5.0",
            "_view_name": "ProgressView",
            "bar_style": "success",
            "description": "",
            "description_tooltip": null,
            "layout": "IPY_MODEL_1db56d88c3d94a2f8d57f7f51ff25627",
            "max": 1000,
            "min": 0,
            "orientation": "horizontal",
            "style": "IPY_MODEL_50d8054959ce46929c80570818e7e791",
            "value": 1000
          }
        },
        "945b48148d8847219b894d41b1f6e59f": {
          "model_module": "@jupyter-widgets/controls",
          "model_name": "HTMLModel",
          "model_module_version": "1.5.0",
          "state": {
            "_dom_classes": [],
            "_model_module": "@jupyter-widgets/controls",
            "_model_module_version": "1.5.0",
            "_model_name": "HTMLModel",
            "_view_count": null,
            "_view_module": "@jupyter-widgets/controls",
            "_view_module_version": "1.5.0",
            "_view_name": "HTMLView",
            "description": "",
            "description_tooltip": null,
            "layout": "IPY_MODEL_0b94b64122144f96b9d154490767c0ba",
            "placeholder": "​",
            "style": "IPY_MODEL_7033c93ef52c491393c95e6857074b11",
            "value": " 1000/1000 [00:02&lt;00:00, 509.22it/s]"
          }
        },
        "ed5902df13d543e9b5694714f0ef137c": {
          "model_module": "@jupyter-widgets/base",
          "model_name": "LayoutModel",
          "model_module_version": "1.2.0",
          "state": {
            "_model_module": "@jupyter-widgets/base",
            "_model_module_version": "1.2.0",
            "_model_name": "LayoutModel",
            "_view_count": null,
            "_view_module": "@jupyter-widgets/base",
            "_view_module_version": "1.2.0",
            "_view_name": "LayoutView",
            "align_content": null,
            "align_items": null,
            "align_self": null,
            "border": null,
            "bottom": null,
            "display": null,
            "flex": null,
            "flex_flow": null,
            "grid_area": null,
            "grid_auto_columns": null,
            "grid_auto_flow": null,
            "grid_auto_rows": null,
            "grid_column": null,
            "grid_gap": null,
            "grid_row": null,
            "grid_template_areas": null,
            "grid_template_columns": null,
            "grid_template_rows": null,
            "height": null,
            "justify_content": null,
            "justify_items": null,
            "left": null,
            "margin": null,
            "max_height": null,
            "max_width": null,
            "min_height": null,
            "min_width": null,
            "object_fit": null,
            "object_position": null,
            "order": null,
            "overflow": null,
            "overflow_x": null,
            "overflow_y": null,
            "padding": null,
            "right": null,
            "top": null,
            "visibility": null,
            "width": null
          }
        },
        "92902824aa6a436b820c4c9536b7ae97": {
          "model_module": "@jupyter-widgets/base",
          "model_name": "LayoutModel",
          "model_module_version": "1.2.0",
          "state": {
            "_model_module": "@jupyter-widgets/base",
            "_model_module_version": "1.2.0",
            "_model_name": "LayoutModel",
            "_view_count": null,
            "_view_module": "@jupyter-widgets/base",
            "_view_module_version": "1.2.0",
            "_view_name": "LayoutView",
            "align_content": null,
            "align_items": null,
            "align_self": null,
            "border": null,
            "bottom": null,
            "display": null,
            "flex": null,
            "flex_flow": null,
            "grid_area": null,
            "grid_auto_columns": null,
            "grid_auto_flow": null,
            "grid_auto_rows": null,
            "grid_column": null,
            "grid_gap": null,
            "grid_row": null,
            "grid_template_areas": null,
            "grid_template_columns": null,
            "grid_template_rows": null,
            "height": null,
            "justify_content": null,
            "justify_items": null,
            "left": null,
            "margin": null,
            "max_height": null,
            "max_width": null,
            "min_height": null,
            "min_width": null,
            "object_fit": null,
            "object_position": null,
            "order": null,
            "overflow": null,
            "overflow_x": null,
            "overflow_y": null,
            "padding": null,
            "right": null,
            "top": null,
            "visibility": null,
            "width": null
          }
        },
        "edb5b5e474d74744874d4bb0fd7d9203": {
          "model_module": "@jupyter-widgets/controls",
          "model_name": "DescriptionStyleModel",
          "model_module_version": "1.5.0",
          "state": {
            "_model_module": "@jupyter-widgets/controls",
            "_model_module_version": "1.5.0",
            "_model_name": "DescriptionStyleModel",
            "_view_count": null,
            "_view_module": "@jupyter-widgets/base",
            "_view_module_version": "1.2.0",
            "_view_name": "StyleView",
            "description_width": ""
          }
        },
        "1db56d88c3d94a2f8d57f7f51ff25627": {
          "model_module": "@jupyter-widgets/base",
          "model_name": "LayoutModel",
          "model_module_version": "1.2.0",
          "state": {
            "_model_module": "@jupyter-widgets/base",
            "_model_module_version": "1.2.0",
            "_model_name": "LayoutModel",
            "_view_count": null,
            "_view_module": "@jupyter-widgets/base",
            "_view_module_version": "1.2.0",
            "_view_name": "LayoutView",
            "align_content": null,
            "align_items": null,
            "align_self": null,
            "border": null,
            "bottom": null,
            "display": null,
            "flex": null,
            "flex_flow": null,
            "grid_area": null,
            "grid_auto_columns": null,
            "grid_auto_flow": null,
            "grid_auto_rows": null,
            "grid_column": null,
            "grid_gap": null,
            "grid_row": null,
            "grid_template_areas": null,
            "grid_template_columns": null,
            "grid_template_rows": null,
            "height": null,
            "justify_content": null,
            "justify_items": null,
            "left": null,
            "margin": null,
            "max_height": null,
            "max_width": null,
            "min_height": null,
            "min_width": null,
            "object_fit": null,
            "object_position": null,
            "order": null,
            "overflow": null,
            "overflow_x": null,
            "overflow_y": null,
            "padding": null,
            "right": null,
            "top": null,
            "visibility": null,
            "width": null
          }
        },
        "50d8054959ce46929c80570818e7e791": {
          "model_module": "@jupyter-widgets/controls",
          "model_name": "ProgressStyleModel",
          "model_module_version": "1.5.0",
          "state": {
            "_model_module": "@jupyter-widgets/controls",
            "_model_module_version": "1.5.0",
            "_model_name": "ProgressStyleModel",
            "_view_count": null,
            "_view_module": "@jupyter-widgets/base",
            "_view_module_version": "1.2.0",
            "_view_name": "StyleView",
            "bar_color": null,
            "description_width": ""
          }
        },
        "0b94b64122144f96b9d154490767c0ba": {
          "model_module": "@jupyter-widgets/base",
          "model_name": "LayoutModel",
          "model_module_version": "1.2.0",
          "state": {
            "_model_module": "@jupyter-widgets/base",
            "_model_module_version": "1.2.0",
            "_model_name": "LayoutModel",
            "_view_count": null,
            "_view_module": "@jupyter-widgets/base",
            "_view_module_version": "1.2.0",
            "_view_name": "LayoutView",
            "align_content": null,
            "align_items": null,
            "align_self": null,
            "border": null,
            "bottom": null,
            "display": null,
            "flex": null,
            "flex_flow": null,
            "grid_area": null,
            "grid_auto_columns": null,
            "grid_auto_flow": null,
            "grid_auto_rows": null,
            "grid_column": null,
            "grid_gap": null,
            "grid_row": null,
            "grid_template_areas": null,
            "grid_template_columns": null,
            "grid_template_rows": null,
            "height": null,
            "justify_content": null,
            "justify_items": null,
            "left": null,
            "margin": null,
            "max_height": null,
            "max_width": null,
            "min_height": null,
            "min_width": null,
            "object_fit": null,
            "object_position": null,
            "order": null,
            "overflow": null,
            "overflow_x": null,
            "overflow_y": null,
            "padding": null,
            "right": null,
            "top": null,
            "visibility": null,
            "width": null
          }
        },
        "7033c93ef52c491393c95e6857074b11": {
          "model_module": "@jupyter-widgets/controls",
          "model_name": "DescriptionStyleModel",
          "model_module_version": "1.5.0",
          "state": {
            "_model_module": "@jupyter-widgets/controls",
            "_model_module_version": "1.5.0",
            "_model_name": "DescriptionStyleModel",
            "_view_count": null,
            "_view_module": "@jupyter-widgets/base",
            "_view_module_version": "1.2.0",
            "_view_name": "StyleView",
            "description_width": ""
          }
        },
        "8ef1e4b1fb0c421b953cd794f8d12dd3": {
          "model_module": "@jupyter-widgets/controls",
          "model_name": "HBoxModel",
          "model_module_version": "1.5.0",
          "state": {
            "_dom_classes": [],
            "_model_module": "@jupyter-widgets/controls",
            "_model_module_version": "1.5.0",
            "_model_name": "HBoxModel",
            "_view_count": null,
            "_view_module": "@jupyter-widgets/controls",
            "_view_module_version": "1.5.0",
            "_view_name": "HBoxView",
            "box_style": "",
            "children": [
              "IPY_MODEL_66f8fb5d371c4366a61927a4330b9de0",
              "IPY_MODEL_80e0363fe9b04545b0c8c5e977a9a1ad",
              "IPY_MODEL_55ed10f4f08e4509823d164db9950e0f"
            ],
            "layout": "IPY_MODEL_5decc94e7d5b485bbcc52763fdfe4c2f"
          }
        },
        "66f8fb5d371c4366a61927a4330b9de0": {
          "model_module": "@jupyter-widgets/controls",
          "model_name": "HTMLModel",
          "model_module_version": "1.5.0",
          "state": {
            "_dom_classes": [],
            "_model_module": "@jupyter-widgets/controls",
            "_model_module_version": "1.5.0",
            "_model_name": "HTMLModel",
            "_view_count": null,
            "_view_module": "@jupyter-widgets/controls",
            "_view_module_version": "1.5.0",
            "_view_name": "HTMLView",
            "description": "",
            "description_tooltip": null,
            "layout": "IPY_MODEL_6f518c2056f84e64843ec2e3ed41eaef",
            "placeholder": "​",
            "style": "IPY_MODEL_f841c5e098cb4d75bb1beeed0d742950",
            "value": "100%"
          }
        },
        "80e0363fe9b04545b0c8c5e977a9a1ad": {
          "model_module": "@jupyter-widgets/controls",
          "model_name": "FloatProgressModel",
          "model_module_version": "1.5.0",
          "state": {
            "_dom_classes": [],
            "_model_module": "@jupyter-widgets/controls",
            "_model_module_version": "1.5.0",
            "_model_name": "FloatProgressModel",
            "_view_count": null,
            "_view_module": "@jupyter-widgets/controls",
            "_view_module_version": "1.5.0",
            "_view_name": "ProgressView",
            "bar_style": "success",
            "description": "",
            "description_tooltip": null,
            "layout": "IPY_MODEL_7a4cd23f4af84ba5b77defac638d086c",
            "max": 1000,
            "min": 0,
            "orientation": "horizontal",
            "style": "IPY_MODEL_6685344c17b84f77abe037c66384a74d",
            "value": 1000
          }
        },
        "55ed10f4f08e4509823d164db9950e0f": {
          "model_module": "@jupyter-widgets/controls",
          "model_name": "HTMLModel",
          "model_module_version": "1.5.0",
          "state": {
            "_dom_classes": [],
            "_model_module": "@jupyter-widgets/controls",
            "_model_module_version": "1.5.0",
            "_model_name": "HTMLModel",
            "_view_count": null,
            "_view_module": "@jupyter-widgets/controls",
            "_view_module_version": "1.5.0",
            "_view_name": "HTMLView",
            "description": "",
            "description_tooltip": null,
            "layout": "IPY_MODEL_7f4f4107a927486f80a2aa9725e93a66",
            "placeholder": "​",
            "style": "IPY_MODEL_415c0b58c0324404a5f52fd999e93af4",
            "value": " 1000/1000 [00:00&lt;00:00, 4082.58it/s]"
          }
        },
        "5decc94e7d5b485bbcc52763fdfe4c2f": {
          "model_module": "@jupyter-widgets/base",
          "model_name": "LayoutModel",
          "model_module_version": "1.2.0",
          "state": {
            "_model_module": "@jupyter-widgets/base",
            "_model_module_version": "1.2.0",
            "_model_name": "LayoutModel",
            "_view_count": null,
            "_view_module": "@jupyter-widgets/base",
            "_view_module_version": "1.2.0",
            "_view_name": "LayoutView",
            "align_content": null,
            "align_items": null,
            "align_self": null,
            "border": null,
            "bottom": null,
            "display": null,
            "flex": null,
            "flex_flow": null,
            "grid_area": null,
            "grid_auto_columns": null,
            "grid_auto_flow": null,
            "grid_auto_rows": null,
            "grid_column": null,
            "grid_gap": null,
            "grid_row": null,
            "grid_template_areas": null,
            "grid_template_columns": null,
            "grid_template_rows": null,
            "height": null,
            "justify_content": null,
            "justify_items": null,
            "left": null,
            "margin": null,
            "max_height": null,
            "max_width": null,
            "min_height": null,
            "min_width": null,
            "object_fit": null,
            "object_position": null,
            "order": null,
            "overflow": null,
            "overflow_x": null,
            "overflow_y": null,
            "padding": null,
            "right": null,
            "top": null,
            "visibility": null,
            "width": null
          }
        },
        "6f518c2056f84e64843ec2e3ed41eaef": {
          "model_module": "@jupyter-widgets/base",
          "model_name": "LayoutModel",
          "model_module_version": "1.2.0",
          "state": {
            "_model_module": "@jupyter-widgets/base",
            "_model_module_version": "1.2.0",
            "_model_name": "LayoutModel",
            "_view_count": null,
            "_view_module": "@jupyter-widgets/base",
            "_view_module_version": "1.2.0",
            "_view_name": "LayoutView",
            "align_content": null,
            "align_items": null,
            "align_self": null,
            "border": null,
            "bottom": null,
            "display": null,
            "flex": null,
            "flex_flow": null,
            "grid_area": null,
            "grid_auto_columns": null,
            "grid_auto_flow": null,
            "grid_auto_rows": null,
            "grid_column": null,
            "grid_gap": null,
            "grid_row": null,
            "grid_template_areas": null,
            "grid_template_columns": null,
            "grid_template_rows": null,
            "height": null,
            "justify_content": null,
            "justify_items": null,
            "left": null,
            "margin": null,
            "max_height": null,
            "max_width": null,
            "min_height": null,
            "min_width": null,
            "object_fit": null,
            "object_position": null,
            "order": null,
            "overflow": null,
            "overflow_x": null,
            "overflow_y": null,
            "padding": null,
            "right": null,
            "top": null,
            "visibility": null,
            "width": null
          }
        },
        "f841c5e098cb4d75bb1beeed0d742950": {
          "model_module": "@jupyter-widgets/controls",
          "model_name": "DescriptionStyleModel",
          "model_module_version": "1.5.0",
          "state": {
            "_model_module": "@jupyter-widgets/controls",
            "_model_module_version": "1.5.0",
            "_model_name": "DescriptionStyleModel",
            "_view_count": null,
            "_view_module": "@jupyter-widgets/base",
            "_view_module_version": "1.2.0",
            "_view_name": "StyleView",
            "description_width": ""
          }
        },
        "7a4cd23f4af84ba5b77defac638d086c": {
          "model_module": "@jupyter-widgets/base",
          "model_name": "LayoutModel",
          "model_module_version": "1.2.0",
          "state": {
            "_model_module": "@jupyter-widgets/base",
            "_model_module_version": "1.2.0",
            "_model_name": "LayoutModel",
            "_view_count": null,
            "_view_module": "@jupyter-widgets/base",
            "_view_module_version": "1.2.0",
            "_view_name": "LayoutView",
            "align_content": null,
            "align_items": null,
            "align_self": null,
            "border": null,
            "bottom": null,
            "display": null,
            "flex": null,
            "flex_flow": null,
            "grid_area": null,
            "grid_auto_columns": null,
            "grid_auto_flow": null,
            "grid_auto_rows": null,
            "grid_column": null,
            "grid_gap": null,
            "grid_row": null,
            "grid_template_areas": null,
            "grid_template_columns": null,
            "grid_template_rows": null,
            "height": null,
            "justify_content": null,
            "justify_items": null,
            "left": null,
            "margin": null,
            "max_height": null,
            "max_width": null,
            "min_height": null,
            "min_width": null,
            "object_fit": null,
            "object_position": null,
            "order": null,
            "overflow": null,
            "overflow_x": null,
            "overflow_y": null,
            "padding": null,
            "right": null,
            "top": null,
            "visibility": null,
            "width": null
          }
        },
        "6685344c17b84f77abe037c66384a74d": {
          "model_module": "@jupyter-widgets/controls",
          "model_name": "ProgressStyleModel",
          "model_module_version": "1.5.0",
          "state": {
            "_model_module": "@jupyter-widgets/controls",
            "_model_module_version": "1.5.0",
            "_model_name": "ProgressStyleModel",
            "_view_count": null,
            "_view_module": "@jupyter-widgets/base",
            "_view_module_version": "1.2.0",
            "_view_name": "StyleView",
            "bar_color": null,
            "description_width": ""
          }
        },
        "7f4f4107a927486f80a2aa9725e93a66": {
          "model_module": "@jupyter-widgets/base",
          "model_name": "LayoutModel",
          "model_module_version": "1.2.0",
          "state": {
            "_model_module": "@jupyter-widgets/base",
            "_model_module_version": "1.2.0",
            "_model_name": "LayoutModel",
            "_view_count": null,
            "_view_module": "@jupyter-widgets/base",
            "_view_module_version": "1.2.0",
            "_view_name": "LayoutView",
            "align_content": null,
            "align_items": null,
            "align_self": null,
            "border": null,
            "bottom": null,
            "display": null,
            "flex": null,
            "flex_flow": null,
            "grid_area": null,
            "grid_auto_columns": null,
            "grid_auto_flow": null,
            "grid_auto_rows": null,
            "grid_column": null,
            "grid_gap": null,
            "grid_row": null,
            "grid_template_areas": null,
            "grid_template_columns": null,
            "grid_template_rows": null,
            "height": null,
            "justify_content": null,
            "justify_items": null,
            "left": null,
            "margin": null,
            "max_height": null,
            "max_width": null,
            "min_height": null,
            "min_width": null,
            "object_fit": null,
            "object_position": null,
            "order": null,
            "overflow": null,
            "overflow_x": null,
            "overflow_y": null,
            "padding": null,
            "right": null,
            "top": null,
            "visibility": null,
            "width": null
          }
        },
        "415c0b58c0324404a5f52fd999e93af4": {
          "model_module": "@jupyter-widgets/controls",
          "model_name": "DescriptionStyleModel",
          "model_module_version": "1.5.0",
          "state": {
            "_model_module": "@jupyter-widgets/controls",
            "_model_module_version": "1.5.0",
            "_model_name": "DescriptionStyleModel",
            "_view_count": null,
            "_view_module": "@jupyter-widgets/base",
            "_view_module_version": "1.2.0",
            "_view_name": "StyleView",
            "description_width": ""
          }
        }
      }
    }
  },
  "cells": [
    {
      "cell_type": "markdown",
      "metadata": {
        "id": "view-in-github",
        "colab_type": "text"
      },
      "source": [
        "<a href=\"https://colab.research.google.com/github/PashleneNaidoo/HEOM-IBMQDevices/blob/main/PyHEOM.ipynb\" target=\"_parent\"><img src=\"https://colab.research.google.com/assets/colab-badge.svg\" alt=\"Open In Colab\"/></a>"
      ]
    },
    {
      "cell_type": "code",
      "execution_count": 1,
      "metadata": {
        "colab": {
          "base_uri": "https://localhost:8080/"
        },
        "id": "tge9_oA1cIfs",
        "outputId": "b9a82b63-156d-4d88-ac2b-12a45b618b6d"
      },
      "outputs": [
        {
          "output_type": "stream",
          "name": "stdout",
          "text": [
            "Using pip 23.1.2 from /usr/local/lib/python3.10/dist-packages/pip (python 3.10)\n",
            "Collecting git+https://github.com/tatsushi-ikeda/pyheom.git@master\n",
            "  Cloning https://github.com/tatsushi-ikeda/pyheom.git (to revision master) to /tmp/pip-req-build-upet5v78\n",
            "  Running command git version\n",
            "  git version 2.34.1\n",
            "  Running command git clone --filter=blob:none https://github.com/tatsushi-ikeda/pyheom.git /tmp/pip-req-build-upet5v78\n",
            "  Cloning into '/tmp/pip-req-build-upet5v78'...\n",
            "  Running command git show-ref master\n",
            "  e60033086f5b85430f717b86e46183b762a367b9 refs/heads/master\n",
            "  e60033086f5b85430f717b86e46183b762a367b9 refs/remotes/origin/master\n",
            "  Running command git symbolic-ref -q HEAD\n",
            "  refs/heads/master\n",
            "  Resolved https://github.com/tatsushi-ikeda/pyheom.git to commit e60033086f5b85430f717b86e46183b762a367b9\n",
            "  Running command git submodule update --init --recursive -q\n",
            "  Running command git rev-parse HEAD\n",
            "  e60033086f5b85430f717b86e46183b762a367b9\n",
            "  Running command python setup.py egg_info\n",
            "  running egg_info\n",
            "  creating /tmp/pip-pip-egg-info-gs1dt0i8/pyheom.egg-info\n",
            "  writing /tmp/pip-pip-egg-info-gs1dt0i8/pyheom.egg-info/PKG-INFO\n",
            "  writing dependency_links to /tmp/pip-pip-egg-info-gs1dt0i8/pyheom.egg-info/dependency_links.txt\n",
            "  writing requirements to /tmp/pip-pip-egg-info-gs1dt0i8/pyheom.egg-info/requires.txt\n",
            "  writing top-level names to /tmp/pip-pip-egg-info-gs1dt0i8/pyheom.egg-info/top_level.txt\n",
            "  writing manifest file '/tmp/pip-pip-egg-info-gs1dt0i8/pyheom.egg-info/SOURCES.txt'\n",
            "  reading manifest file '/tmp/pip-pip-egg-info-gs1dt0i8/pyheom.egg-info/SOURCES.txt'\n",
            "  adding license file 'LICENSE.txt'\n",
            "  writing manifest file '/tmp/pip-pip-egg-info-gs1dt0i8/pyheom.egg-info/SOURCES.txt'\n",
            "  Preparing metadata (setup.py) ... \u001b[?25l\u001b[?25hdone\n",
            "Requirement already satisfied: numpy in /usr/local/lib/python3.10/dist-packages (from pyheom==1.0.0a2) (1.23.5)\n",
            "Requirement already satisfied: scipy in /usr/local/lib/python3.10/dist-packages (from pyheom==1.0.0a2) (1.11.3)\n",
            "Requirement already satisfied: jinja2 in /usr/local/lib/python3.10/dist-packages (from pyheom==1.0.0a2) (3.1.2)\n",
            "Requirement already satisfied: MarkupSafe>=2.0 in /usr/local/lib/python3.10/dist-packages (from jinja2->pyheom==1.0.0a2) (2.1.3)\n"
          ]
        }
      ],
      "source": [
        "! CMAKE_ARGS=\"-DLIBHEOM_ENABLE_CUDA=OFF -DCMAKE_VERBOSE_MAKEFILE=ON\" pip install git+https://github.com/tatsushi-ikeda/pyheom.git@master -v"
      ]
    },
    {
      "cell_type": "code",
      "source": [
        "import numpy as np\n",
        "import scipy as sp\n",
        "import scipy.sparse\n",
        "\n",
        "from sys import stdout, stderr\n",
        "import time\n",
        "\n",
        "import pyheom\n",
        "from pyheom import heom_solver, redfield_solver, noise_decomposition, drude, unit\n",
        "pyheom.units['energy'] = unit.wavenumber\n",
        "pyheom.units['time']   = unit.femtosecond\n",
        "from tqdm.auto import tqdm\n",
        "\n",
        "dtype           = np.complex128\n",
        "\n",
        "epsilon_1 = 100.0\n",
        "epsilon_2 = 100.0\n",
        "J_12      = 100.0\n",
        "gamma     = 53.08\n",
        "beta      = 1/208.51\n",
        "lambda_c  = J_12/5.0\n",
        "\n",
        "callback_interval = 1\n",
        "count             = 1000\n",
        "t_list            = np.arange(0, count, callback_interval)\n",
        "solver_params    = dict(\n",
        "    dt = 5e-2,\n",
        "    # atol=1e-6, rtol=1e-3\n",
        ")\n",
        "#\n",
        "\n",
        "J_1 = drude(eta = 2*lambda_c/gamma, gamma_c = gamma)\n",
        "J_2 = drude(eta = 2*lambda_c/gamma, gamma_c = gamma)\n",
        "corr_dict_1 = noise_decomposition(\n",
        "    J_1,\n",
        "    T = 1/beta,\n",
        "    type_ltc = 'none'\n",
        ")\n",
        "corr_dict_2 = noise_decomposition(\n",
        "    J_2,\n",
        "    T = 1/beta,\n",
        "    type_ltc = 'none'\n",
        ")\n",
        "\n",
        "n_level = 2\n",
        "depth = 20\n",
        "\n",
        "H = np.array([[epsilon_1+lambda_c, J_12],\n",
        "              [J_12, epsilon_2+lambda_c]],\n",
        "             dtype=dtype)\n",
        "\n",
        "V_1 = np.array([[1, 0],\n",
        "                [0, 0]],\n",
        "             dtype=dtype)\n",
        "\n",
        "V_2 = np.array([[0, 0],\n",
        "                [0, 1]],\n",
        "             dtype=dtype)\n"
      ],
      "metadata": {
        "id": "RrVKuVb1cMo5"
      },
      "execution_count": 4,
      "outputs": []
    },
    {
      "cell_type": "code",
      "source": [
        "print(corr_dict_1)\n",
        "# Symmetrized correlation function : sigma.T@S@exp(-gamma*t)@phi_0 + s_delta*2*delta(t)\n",
        "# Anti-symmetrized correlation function : sigma.T@A@exp(-gamma*t)@phi_0\n",
        "# If you want to use custom correlation functions, specify the above parameters directly.\n",
        "# Because gamma, S, and A are matrices and phi_0 and sigma are vectors, sum of exponential functions (diagonal gamma) and non-exponential funcitons (non-diagonal gamma) can be written in the above format."
      ],
      "metadata": {
        "colab": {
          "base_uri": "https://localhost:8080/"
        },
        "id": "_Nac6U4gc5iW",
        "outputId": "715fb5f1-11e7-416b-ff42-9fa8aef00c71"
      },
      "execution_count": 12,
      "outputs": [
        {
          "output_type": "stream",
          "name": "stdout",
          "text": [
            "{'gamma': <1x1 sparse matrix of type '<class 'numpy.complex128'>'\n",
            "\twith 1 stored elements in List of Lists format>, 'sigma': array([1.+0.j]), 'phi_0': array([1.+0.j]), 'S': <1x1 sparse matrix of type '<class 'numpy.complex128'>'\n",
            "\twith 1 stored elements in List of Lists format>, 's_delta': 0.0, 'A': <1x1 sparse matrix of type '<class 'numpy.complex128'>'\n",
            "\twith 1 stored elements in List of Lists format>}\n"
          ]
        }
      ]
    },
    {
      "cell_type": "code",
      "source": [
        "from pyheom import heom_solver"
      ],
      "metadata": {
        "id": "XQmgzS03dVyv"
      },
      "execution_count": 2,
      "outputs": []
    },
    {
      "cell_type": "code",
      "source": [
        "space           = 'ado'       # 'hilbert', 'liouville'\n",
        "format          = 'sparse'    # 'dense'\n",
        "engine          = 'eigen'     # 'cuda', 'mkl'\n",
        "solver          = 'lsrk4'\n",
        "order_liouville = 'row_major' # 'col_major'\n",
        "space           = 'ado'\n",
        "# The above configurations strongly affect the numerical performance of the computation.\n",
        "# The optimal choice depends on the sizes of the system and hierarchy space.\n",
        "\n",
        "qme = heom_solver(H, [dict(V=V_1, **corr_dict_1), dict(V=V_2, **corr_dict_2)],\n",
        "                  space=space, format=format, engine=engine,\n",
        "                  order_liouville=order_liouville,\n",
        "                  solver=solver,\n",
        "                  engine_args=dict(),\n",
        "                  depth = depth)\n",
        "\n",
        "n_storage = qme.storage_size()\n",
        "\n",
        "rho = np.zeros((n_storage,n_level,n_level), dtype=dtype)\n",
        "rho_0 = rho[0,:,:]\n",
        "rho_0[0,0] = 1\n",
        "\n",
        "pop_save_heom = np.zeros((t_list.shape[0],))\n",
        "count    = 0\n",
        "\n",
        "with tqdm(total=t_list.shape[0]) as bar:\n",
        "    def callback(t):\n",
        "        global count\n",
        "        bar.update(1)\n",
        "        pop_save_heom[count] = rho_0[0,0].real\n",
        "        count += 1\n",
        "    begin = time.time()\n",
        "    qme.solve(rho, t_list, callback=callback, **solver_params)\n",
        "    end   = time.time()\n",
        "print('elapsed:', end - begin, file=stderr)\n",
        "del qme"
      ],
      "metadata": {
        "colab": {
          "base_uri": "https://localhost:8080/",
          "height": 66,
          "referenced_widgets": [
            "9b9812696cb6482da4a818b9639f1dfe",
            "aa71988dd0cb4b16b7ac95a089ca53b6",
            "7694adcb481f49db80a0453f05fe5cb7",
            "945b48148d8847219b894d41b1f6e59f",
            "ed5902df13d543e9b5694714f0ef137c",
            "92902824aa6a436b820c4c9536b7ae97",
            "edb5b5e474d74744874d4bb0fd7d9203",
            "1db56d88c3d94a2f8d57f7f51ff25627",
            "50d8054959ce46929c80570818e7e791",
            "0b94b64122144f96b9d154490767c0ba",
            "7033c93ef52c491393c95e6857074b11"
          ]
        },
        "id": "7AeYOqQBc9Ht",
        "outputId": "071ea192-c119-4b12-d9bc-26893af82603"
      },
      "execution_count": 5,
      "outputs": [
        {
          "output_type": "display_data",
          "data": {
            "text/plain": [
              "  0%|          | 0/1000 [00:00<?, ?it/s]"
            ],
            "application/vnd.jupyter.widget-view+json": {
              "version_major": 2,
              "version_minor": 0,
              "model_id": "9b9812696cb6482da4a818b9639f1dfe"
            }
          },
          "metadata": {}
        },
        {
          "output_type": "stream",
          "name": "stderr",
          "text": [
            "elapsed: 1.984215497970581\n"
          ]
        }
      ]
    },
    {
      "cell_type": "code",
      "source": [
        "from pyheom import redfield_solver"
      ],
      "metadata": {
        "id": "1JQJ8V0LdszJ"
      },
      "execution_count": 6,
      "outputs": []
    },
    {
      "cell_type": "code",
      "source": [
        "space='liouville'\n",
        "qme = redfield_solver(H, [dict(V=V_1, **corr_dict_1), dict(V=V_2, **corr_dict_2)],\n",
        "                      space=space, format=format, engine=engine,\n",
        "                      order_liouville=order_liouville,\n",
        "                      solver=solver,\n",
        "                      engine_args=dict())\n",
        "\n",
        "n_storage = qme.storage_size()\n",
        "\n",
        "rho = np.zeros((n_storage,n_level,n_level), dtype=dtype)\n",
        "rho_0 = rho[0,:,:]\n",
        "rho_0[0,0] = 1\n",
        "\n",
        "pop_save_rf = np.zeros((t_list.shape[0],))\n",
        "count    = 0\n",
        "\n",
        "with tqdm(total=t_list.shape[0]) as bar:\n",
        "    def callback(t):\n",
        "        global count\n",
        "        bar.update(1)\n",
        "        pop_save_rf[count] = rho_0[0,0].real\n",
        "        count += 1\n",
        "    begin = time.time()\n",
        "    qme.solve(rho, t_list, callback=callback, **solver_params)\n",
        "    end   = time.time()\n",
        "print('elapsed:', end - begin, file=stderr)\n",
        "del qme"
      ],
      "metadata": {
        "colab": {
          "base_uri": "https://localhost:8080/",
          "height": 66,
          "referenced_widgets": [
            "8ef1e4b1fb0c421b953cd794f8d12dd3",
            "66f8fb5d371c4366a61927a4330b9de0",
            "80e0363fe9b04545b0c8c5e977a9a1ad",
            "55ed10f4f08e4509823d164db9950e0f",
            "5decc94e7d5b485bbcc52763fdfe4c2f",
            "6f518c2056f84e64843ec2e3ed41eaef",
            "f841c5e098cb4d75bb1beeed0d742950",
            "7a4cd23f4af84ba5b77defac638d086c",
            "6685344c17b84f77abe037c66384a74d",
            "7f4f4107a927486f80a2aa9725e93a66",
            "415c0b58c0324404a5f52fd999e93af4"
          ]
        },
        "id": "g-I7goF2ddpr",
        "outputId": "8b04bd68-6ef5-459e-a336-e5ccee6773b4"
      },
      "execution_count": 7,
      "outputs": [
        {
          "output_type": "display_data",
          "data": {
            "text/plain": [
              "  0%|          | 0/1000 [00:00<?, ?it/s]"
            ],
            "application/vnd.jupyter.widget-view+json": {
              "version_major": 2,
              "version_minor": 0,
              "model_id": "8ef1e4b1fb0c421b953cd794f8d12dd3"
            }
          },
          "metadata": {}
        },
        {
          "output_type": "stream",
          "name": "stderr",
          "text": [
            "elapsed: 0.0827944278717041\n"
          ]
        }
      ]
    },
    {
      "cell_type": "code",
      "source": [
        "import matplotlib.pyplot as plt\n",
        "fig = plt.figure(figsize=(6, 4))\n",
        "ax = fig.add_subplot(111,\n",
        "                     xlabel='time / fs',\n",
        "                     ylabel='population')\n",
        "ax.plot(t_list, pop_save_heom)\n",
        "ax.plot(t_list, pop_save_rf)"
      ],
      "metadata": {
        "colab": {
          "base_uri": "https://localhost:8080/",
          "height": 405
        },
        "id": "TcJKIJH7eDuX",
        "outputId": "3ccdb518-fecc-41ba-e912-2ce4f63ec870"
      },
      "execution_count": 8,
      "outputs": [
        {
          "output_type": "execute_result",
          "data": {
            "text/plain": [
              "[<matplotlib.lines.Line2D at 0x7c1f0ca43e80>]"
            ]
          },
          "metadata": {},
          "execution_count": 8
        },
        {
          "output_type": "display_data",
          "data": {
            "text/plain": [
              "<Figure size 600x400 with 1 Axes>"
            ],
            "image/png": "[encoded data removed]"
          },
          "metadata": {}
        }
      ]
    },
    {
      "cell_type": "code",
      "source": [],
      "metadata": {
        "id": "VZcerh4UeD5-"
      },
      "execution_count": null,
      "outputs": []
    }
  ]
}