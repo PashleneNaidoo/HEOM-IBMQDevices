{
 "cells": [
  {
   "cell_type": "code",
   "execution_count": 60,
   "id": "165796eb",
   "metadata": {},
   "outputs": [
    {
     "name": "stdout",
     "output_type": "stream",
     "text": [
      "Requirement already satisfied: jax in c:\\users\\lerishia\\anaconda3\\lib\\site-packages (0.4.14)\n",
      "Requirement already satisfied: opt-einsum in c:\\users\\lerishia\\anaconda3\\lib\\site-packages (from jax) (3.3.0)\n",
      "Requirement already satisfied: ml-dtypes>=0.2.0 in c:\\users\\lerishia\\anaconda3\\lib\\site-packages (from jax) (0.2.0)\n",
      "Requirement already satisfied: importlib-metadata>=4.6 in c:\\users\\lerishia\\anaconda3\\lib\\site-packages (from jax) (4.8.1)\n",
      "Requirement already satisfied: numpy>=1.22 in c:\\users\\lerishia\\anaconda3\\lib\\site-packages (from jax) (1.22.4)\n",
      "Requirement already satisfied: scipy>=1.7 in c:\\users\\lerishia\\anaconda3\\lib\\site-packages (from jax) (1.7.1)\n",
      "Requirement already satisfied: zipp>=0.5 in c:\\users\\lerishia\\anaconda3\\lib\\site-packages (from importlib-metadata>=4.6->jax) (3.6.0)\n",
      "Requirement already satisfied: jaxlib in c:\\users\\lerishia\\anaconda3\\lib\\site-packages (0.4.14)\n",
      "Requirement already satisfied: scipy>=1.7 in c:\\users\\lerishia\\anaconda3\\lib\\site-packages (from jaxlib) (1.7.1)\n",
      "Requirement already satisfied: ml-dtypes>=0.2.0 in c:\\users\\lerishia\\anaconda3\\lib\\site-packages (from jaxlib) (0.2.0)\n",
      "Requirement already satisfied: numpy>=1.22 in c:\\users\\lerishia\\anaconda3\\lib\\site-packages (from jaxlib) (1.22.4)\n"
     ]
    }
   ],
   "source": [
    "!pip install jax\n",
    "!pip install jaxlib\n",
    "\n",
    "import jax\n",
    "import numpy as np\n",
    "import jax.numpy as jnp\n",
    "\n",
    "from jax.numpy import linalg\n",
    "from jax.numpy.linalg import multi_dot\n",
    "from jax import grad, jit, vmap, pmap, random, jacfwd, jacrev\n",
    "#from jax.ops import index, index_add, index_update\n",
    "from jax.experimental.ode import odeint\n",
    "from numpy import nanargmin, nanargmax\n",
    "from numpy import sqrt\n",
    "\n",
    "import itertools\n"
   ]
  },
  {
   "cell_type": "code",
   "execution_count": 104,
   "id": "1c0dacb0",
   "metadata": {},
   "outputs": [
    {
     "name": "stdout",
     "output_type": "stream",
     "text": [
      " pairs :  [(0, 0), (0, 1), (0, 2), (1, 0), (1, 1), (2, 0)] \n",
      "\n"
     ]
    }
   ],
   "source": [
    "N=2\n",
    "def generateIndex(N):\n",
    "    elements=[]\n",
    "    for i in range(N+1):\n",
    "        elements.append(i)\n",
    "    \n",
    "    return elements\n",
    "\n",
    "all_pairs = list(itertools.product(generateIndex(N), repeat=2))\n",
    "filtered_pairs = [pair for pair in all_pairs if sum(pair) <= N ]\n",
    "            \n",
    "def getPair(index):\n",
    "    for indexx, element in enumerate(filtered_pairs):\n",
    "            if indexx==index and index<len(filtered_pairs):\n",
    "                return element\n",
    "            elif indexx!= element and index >=len(filtered_pairs):\n",
    "                error=0\n",
    "                return error\n",
    "            else:\n",
    "                continue\n",
    "    \n",
    "def getIndex(pair):\n",
    "    for indexx, element in enumerate(filtered_pairs):\n",
    "            if element==pair:\n",
    "                if sum(pair)>=0 and sum(pair)<=N:\n",
    "                    return indexx\n",
    "                else: \n",
    "                    error=\"error\"\n",
    "                    return error\n",
    "            elif element!= pair:\n",
    "                if sum(pair)>N:\n",
    "                    error=\"error\"\n",
    "                    return error\n",
    "                elif sum(pair)<N:\n",
    "                    error=\"error\"\n",
    "                    count=0\n",
    "                    for i in pair:\n",
    "                        if i<0:\n",
    "                            count+=1\n",
    "                        else:\n",
    "                            continue\n",
    "                    if count>0:\n",
    "                        return error\n",
    "                    else:\n",
    "                        continue\n",
    "                \n",
    "\n",
    "                \n",
    "print(\" pairs : \", filtered_pairs , \"\\n\")\n",
    "\n",
    "\n",
    "#will try and use pandas later on"
   ]
  },
  {
   "cell_type": "code",
   "execution_count": 105,
   "id": "87018bc9",
   "metadata": {},
   "outputs": [
    {
     "name": "stdout",
     "output_type": "stream",
     "text": [
      "[[0.88947196 0.61732195]\n",
      " [0.11900822 0.18802863]] \n",
      "\n",
      "[[0.97084406 0.16598792]\n",
      " [0.62490641 0.08239795]] \n",
      "\n",
      "[[0.38222242 0.11204425]\n",
      " [0.17149599 0.52288007]] \n",
      "\n",
      "[[0.6283913  0.95788916]\n",
      " [0.23844823 0.28683905]] \n",
      "\n",
      "[[0.92365583 0.47074327]\n",
      " [0.13983909 0.8565289 ]] \n",
      "\n",
      "[[0.15155401 0.95479343]\n",
      " [0.03668987 0.07007976]] \n",
      "\n"
     ]
    }
   ],
   "source": [
    "def create_random_2x2_matrices(N):\n",
    "    matrices = []\n",
    "    for _ in range(N):\n",
    "        matrix = np.random.rand(2, 2)\n",
    "        matrices.append(matrix)\n",
    "    return matrices\n",
    "\n",
    "dm=[] #density matrix dm\n",
    "num = len(filtered_pairs)\n",
    "if num <= 0:\n",
    "    print(\"error\")\n",
    "else:\n",
    "    random_matrices = create_random_2x2_matrices(num)\n",
    "    for i, matrix in enumerate(random_matrices, 1):\n",
    "        dm.append(matrix)\n",
    "        \n",
    "\n",
    "for m in dm:\n",
    "    print(m, \"\\n\")"
   ]
  },
  {
   "cell_type": "code",
   "execution_count": 106,
   "id": "e7a6c3db",
   "metadata": {},
   "outputs": [
    {
     "name": "stdout",
     "output_type": "stream",
     "text": [
      "{(0, 0): array([[0.88947196, 0.61732195],\n",
      "       [0.11900822, 0.18802863]]), (0, 1): array([[0.97084406, 0.16598792],\n",
      "       [0.62490641, 0.08239795]]), (0, 2): array([[0.38222242, 0.11204425],\n",
      "       [0.17149599, 0.52288007]]), (1, 0): array([[0.6283913 , 0.95788916],\n",
      "       [0.23844823, 0.28683905]]), (1, 1): array([[0.92365583, 0.47074327],\n",
      "       [0.13983909, 0.8565289 ]]), (2, 0): array([[0.15155401, 0.95479343],\n",
      "       [0.03668987, 0.07007976]])}\n"
     ]
    }
   ],
   "source": [
    "import pandas as pd\n",
    "# Create a DataFrame with columns 'a' and 'b'\n",
    "df = pd.DataFrame({'pair': filtered_pairs, 'matrix': dm})\n",
    "\n",
    "# Convert the DataFrame to a dictionary mapping 'a' values to 'b' values\n",
    "mapping_dict = df.set_index('pair')['matrix'].to_dict()\n",
    "\n",
    "#print(\"Mapping Dictionary:\")\n",
    "print(mapping_dict)"
   ]
  },
  {
   "cell_type": "code",
   "execution_count": 116,
   "id": "4f8cba90",
   "metadata": {},
   "outputs": [
    {
     "name": "stdout",
     "output_type": "stream",
     "text": [
      "[[0. 0.]\n",
      " [0. 0.]]\n"
     ]
    }
   ],
   "source": [
    "def pairfunction(pair1):\n",
    "    c=getIndex(pair1)\n",
    "    if c != \"error\":\n",
    "        return mapping_dict.get(pair1)\n",
    "    else:\n",
    "        return np.zeros((N,N))\n",
    "\n",
    "pairt=(0,-5)\n",
    "output=pairfunction(pairt)\n",
    "print(output)\n",
    "\n",
    "def indexfunction(index1): # will make use of this soon\n",
    "    pairq=getPair(index1)\n",
    "    return mapping_dict.get(pairq, \"Invalid Input\")\n",
    "  \n",
    "#index=1\n",
    "#output =indexfunction(index)\n",
    "#print(output)"
   ]
  },
  {
   "cell_type": "code",
   "execution_count": 108,
   "id": "2c8d4999",
   "metadata": {},
   "outputs": [
    {
     "name": "stdout",
     "output_type": "stream",
     "text": [
      "H :  [[0.12148326 0.7363461 ]\n",
      " [0.9109179  0.54039509]] \n",
      "\n",
      "p :  [[0.070725   0.03199463]\n",
      " [0.72208042 0.67543508]] \n",
      "\n",
      "V1 :  [[0.78694996 0.93081617]\n",
      " [0.89555431 0.41282765]] \n",
      "\n",
      "V2 :  [[0.31588916 0.86080369]\n",
      " [0.41566852 0.84655046]] \n",
      "\n"
     ]
    }
   ],
   "source": [
    "ot=[]\n",
    "num = 4\n",
    "if num <= 0:\n",
    "    print(\"error\")\n",
    "else:\n",
    "    random_matrices = create_random_2x2_matrices(num)\n",
    "    for i, matrix in enumerate(random_matrices, 1):\n",
    "        ot.append(matrix)\n",
    "        \n",
    "H=ot[0]\n",
    "p=ot[1]\n",
    "V1=ot[2]\n",
    "V2=ot[3]\n",
    "print(\"H : \", H, \"\\n\")\n",
    "print(\"p : \", p, \"\\n\")\n",
    "print(\"V1 : \", V1, \"\\n\")\n",
    "print(\"V2 : \", V2, \"\\n\")"
   ]
  },
  {
   "cell_type": "code",
   "execution_count": 109,
   "id": "5656bca0",
   "metadata": {},
   "outputs": [
    {
     "name": "stdout",
     "output_type": "stream",
     "text": [
      "lamda 1 :  1\n",
      "lamda 2 :  2\n",
      "gamma 1 :  1\n",
      "gamma 2 :  2\n",
      "kb :  1.380649e-23\n",
      "temp :  2.15\n",
      "beta :  3.368823495832521e+22\n",
      "h_bar :  1.054571817e-34\n",
      "C1 :  6.602433868004404e-91\n",
      "C11 :  9.482521568277412e+33\n",
      "C2 :  1.3204867736008808e-90\n",
      "C22 :  3.7930086273109647e+34\n"
     ]
    }
   ],
   "source": [
    "lamda=[1,2]\n",
    "gamma=[1,2]\n",
    "kb= 1.380649*(10**(-23)) #J.K^-1\n",
    "temp=2.15 #K\n",
    "beta=1/(kb*temp)\n",
    "h_bar=1.054571817*(10**(-34))\n",
    "\n",
    "C1=2*lamda[0]/beta*(h_bar**2)\n",
    "C11=lamda[0]*gamma[0]/h_bar\n",
    "C2=2*lamda[1]/beta*(h_bar**2)\n",
    "C22=lamda[1]*gamma[1]/h_bar\n",
    "\n",
    "print(\"lamda 1 : \", lamda[0])\n",
    "print(\"lamda 2 : \", lamda[1])\n",
    "print(\"gamma 1 : \", gamma[0])\n",
    "print(\"gamma 2 : \", gamma[1])\n",
    "print(\"kb : \", kb)\n",
    "print(\"temp : \", temp)\n",
    "print(\"beta : \", beta)\n",
    "print(\"h_bar : \", h_bar)\n",
    "print(\"C1 : \", C1)\n",
    "print(\"C11 : \", C11)\n",
    "print(\"C2 : \", C2)\n",
    "print(\"C22 : \", C22)\n",
    "\n",
    "\n",
    "\n"
   ]
  },
  {
   "cell_type": "code",
   "execution_count": 110,
   "id": "0dbd286c",
   "metadata": {},
   "outputs": [
    {
     "name": "stdout",
     "output_type": "stream",
     "text": [
      "[[0.88947196 0.61732195]\n",
      " [0.11900822 0.18802863]] \n",
      "\n",
      "[[0.97084406 0.16598792]\n",
      " [0.62490641 0.08239795]] \n",
      "\n",
      "[[0.38222242 0.11204425]\n",
      " [0.17149599 0.52288007]] \n",
      "\n",
      "[[0.6283913  0.95788916]\n",
      " [0.23844823 0.28683905]] \n",
      "\n",
      "[[0.92365583 0.47074327]\n",
      " [0.13983909 0.8565289 ]] \n",
      "\n",
      "[[0.15155401 0.95479343]\n",
      " [0.03668987 0.07007976]] \n",
      "\n"
     ]
    }
   ],
   "source": [
    "for i in filtered_pairs:\n",
    "    print(pairfunction(i),\"\\n\")"
   ]
  },
  {
   "cell_type": "code",
   "execution_count": 111,
   "id": "acd9a0fb",
   "metadata": {},
   "outputs": [
    {
     "name": "stdout",
     "output_type": "stream",
     "text": [
      "[[0.88947196 0.61732195]\n",
      " [0.11900822 0.18802863]] \n",
      "\n",
      "[[0.97084406 0.16598792]\n",
      " [0.62490641 0.08239795]] \n",
      "\n",
      "[[0.38222242 0.11204425]\n",
      " [0.17149599 0.52288007]] \n",
      "\n",
      "[[0.6283913  0.95788916]\n",
      " [0.23844823 0.28683905]] \n",
      "\n",
      "[[0.92365583 0.47074327]\n",
      " [0.13983909 0.8565289 ]] \n",
      "\n",
      "[[0.15155401 0.95479343]\n",
      " [0.03668987 0.07007976]] \n",
      "\n"
     ]
    }
   ],
   "source": [
    "for j in range(len(filtered_pairs)):\n",
    "    print(indexfunction(j),\"\\n\")"
   ]
  },
  {
   "cell_type": "code",
   "execution_count": 112,
   "id": "85ded2a4",
   "metadata": {},
   "outputs": [],
   "source": [
    "pair=(0,1)\n",
    "n1=pair[0]\n",
    "n2=pair[1]\n"
   ]
  },
  {
   "cell_type": "code",
   "execution_count": 121,
   "id": "b612447f",
   "metadata": {},
   "outputs": [
    {
     "name": "stdout",
     "output_type": "stream",
     "text": [
      "[[3.4933348e+34-0.67826474j]\n",
      " [6.2399388e+34+0.10356808j]\n",
      " [2.2235488e+34+0.19553573j]\n",
      " [2.5693668e+34+0.23177025j]]\n"
     ]
    }
   ],
   "source": [
    "#HEOM equation\n",
    "#equation part 1\n",
    "a1=-1*(1j*(jnp.dot(H,p)-jnp.dot(p,H)) + n1*gamma[0] + n2*gamma[1] )*pairfunction((n1,n2))\n",
    "a2=(1j*(jnp.dot(V1,pairfunction((n1+1,n2)))- jnp.dot(pairfunction((n1+1,n2)),V1)))\n",
    "a3=(1j*(jnp.dot(V2,pairfunction((n1,n2+1))) - jnp.dot(pairfunction((n1,n2+1)),V2)))\n",
    "a=a1+a2+a3\n",
    "\n",
    "#part 2\n",
    "b1=(C1*(jnp.dot(V1, pairfunction((n1-1, n2))) - jnp.dot(pairfunction((n1-1, n2)), V1)))\n",
    "b2=-1j*(C11*(jnp.dot(V1, pairfunction((n1-1, n2))) + jnp.dot(pairfunction((n1-1, n2)), V1)))\n",
    "b=1j*(b1+b2)\n",
    "\n",
    "#part 3\n",
    "c1=(C2*(jnp.dot(V2,pairfunction((n1,n2-1))) - jnp.dot(pairfunction((n1,n2-1)),V2)))\n",
    "c2=-1j*(C22*(jnp.dot(V2,pairfunction((n1,n2-1))) + jnp.dot(pairfunction((n1,n2-1)),V2)))\n",
    "c=1j*(c1+c2)\n",
    "\n",
    "#the HEOM eqn = part 1 + part 2 + part 3 = a+b+c\n",
    "res=a+b+c\n",
    "res.flatten().reshape(-1,1)\n",
    "\n",
    "\n",
    "\n",
    "\n",
    "\n",
    "\n",
    "#a=jnp.dot(V1,pairfunction((n1+1,n2)))-jnp.dot(pairfunction((n1+1,n2)),V1)\n"
   ]
  },
  {
   "cell_type": "code",
   "execution_count": 123,
   "id": "4d430e45",
   "metadata": {},
   "outputs": [
    {
     "name": "stdout",
     "output_type": "stream",
     "text": [
      "[[3.4933348e+34-0.67826474j]\n",
      " [6.2399388e+34+0.10356808j]\n",
      " [2.2235488e+34+0.19553573j]\n",
      " [2.5693668e+34+0.23177025j]]\n"
     ]
    }
   ],
   "source": [
    "def dpdt(pair):\n",
    "    n1=pair[0]\n",
    "    n2=pair[1]\n",
    "    \n",
    "    #HEOM equation\n",
    "    #equation part 1\n",
    "    a1=-1*(1j*(jnp.dot(H,p)-jnp.dot(p,H)) + n1*gamma[0] + n2*gamma[1] )*pairfunction((n1,n2))\n",
    "    a2=(1j*(jnp.dot(V1,pairfunction((n1+1,n2)))- jnp.dot(pairfunction((n1+1,n2)),V1)))\n",
    "    a3=(1j*(jnp.dot(V2,pairfunction((n1,n2+1))) - jnp.dot(pairfunction((n1,n2+1)),V2)))\n",
    "    a=a1+a2+a3\n",
    "    \n",
    "    #part 2\n",
    "    b1=(C1*(jnp.dot(V1, pairfunction((n1-1, n2))) - jnp.dot(pairfunction((n1-1, n2)), V1)))\n",
    "    b2=-1j*(C11*(jnp.dot(V1, pairfunction((n1-1, n2))) + jnp.dot(pairfunction((n1-1, n2)), V1)))\n",
    "    b=1j*(b1+b2)\n",
    "    \n",
    "    #part 3\n",
    "    c1=(C2*(jnp.dot(V2,pairfunction((n1,n2-1))) - jnp.dot(pairfunction((n1,n2-1)),V2)))\n",
    "    c2=-1j*(C22*(jnp.dot(V2,pairfunction((n1,n2-1))) + jnp.dot(pairfunction((n1,n2-1)),V2)))\n",
    "    c=1j*(c1+c2)\n",
    "    \n",
    "    #the HEOM eqn = part 1 + part 2 + part 3 = a+b+c\n",
    "    res=a+b+c\n",
    "    \n",
    "    return res.flatten().reshape(-1,1)\n",
    "\n",
    "print(dpdt((0,1)))\n",
    "\n",
    "    "
   ]
  },
  {
   "cell_type": "code",
   "execution_count": null,
   "id": "8af2f0c6",
   "metadata": {},
   "outputs": [],
   "source": [
    "def solveDE():#using RK4 # not sure how implement RK4 here\n",
    "    return continue"
   ]
  },
  {
   "cell_type": "code",
   "execution_count": 129,
   "id": "f44d2252",
   "metadata": {},
   "outputs": [],
   "source": [
    "data1=[]\n",
    "for dtpair in filtered_pairs:\n",
    "    matrix=dpdt(dtpair) \n",
    "    data1.append(matrix)\n",
    "    \n",
    "combined_matrix_dpdt=jnp.stack(data1) # a 1xn matrix with column vector matrix elements\n",
    "    \n",
    "data2=[]\n",
    "for pair in filtered_pairs:\n",
    "    matrix=pairfunction(pair)\n",
    "    data2.append(matrix)\n",
    "    \n",
    "combined_matrix_p=jnp.stack(data2) # a 1xn matrix with column vector matrix elements    \n",
    "\n",
    "#dpdtmatrix=M*pmatrix\n",
    "#dpdtmatrix*pmatrix^-1=M\n",
    "\n",
    "#making dpdtmatrix and pmatrix a diagonal matrix\n",
    "combined_matrix_dpdtdiagonal=jnp.diag(combined_matrix_dpdt.flatten())\n",
    "combined_matrix_pdiagonal=jnp.diag(combined_matrix_p.flatten())\n",
    "\n",
    "#solving for matrix M\n",
    "pmatrixdiagonalinverse=jnp.linalg.inv(combined_matrix_pdiagonal)\n",
    "M=combined_matrix_dpdtdiagonal*pmatrixdiagonalinverse\n"
   ]
  },
  {
   "cell_type": "code",
   "execution_count": null,
   "id": "8fcfa8d4",
   "metadata": {},
   "outputs": [],
   "source": []
  }
 ],
 "metadata": {
  "kernelspec": {
   "display_name": "Python 3 (ipykernel)",
   "language": "python",
   "name": "python3"
  },
  "language_info": {
   "codemirror_mode": {
    "name": "ipython",
    "version": 3
   },
   "file_extension": ".py",
   "mimetype": "text/x-python",
   "name": "python",
   "nbconvert_exporter": "python",
   "pygments_lexer": "ipython3",
   "version": "3.9.7"
  }
 },
 "nbformat": 4,
 "nbformat_minor": 5
}
