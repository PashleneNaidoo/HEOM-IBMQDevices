{
  "nbformat": 4,
  "nbformat_minor": 0,
  "metadata": {
    "colab": {
      "provenance": []
    },
    "kernelspec": {
      "name": "python3",
      "display_name": "Python 3"
    },
    "language_info": {
      "name": "python"
    }
  },
  "cells": [
    {
      "cell_type": "code",
      "execution_count": 2,
      "metadata": {
        "colab": {
          "base_uri": "https://localhost:8080/"
        },
        "id": "xmpgCu-NX9cB",
        "outputId": "bf8fc776-9ac0-4531-fa41-cd4b7c035022"
      },
      "outputs": [
        {
          "output_type": "stream",
          "name": "stdout",
          "text": [
            "Installing collected packages: pylatexenc, jedi\n",
            "Successfully installed jedi-0.19.1 pylatexenc-2.10\n"
          ]
        }
      ],
      "source": [
        "!pip install qiskit\n",
        "!pip install qiskit[visualization]"
      ]
    },
    {
      "cell_type": "code",
      "source": [
        "!pip install qiskit-experiments\n",
        "import qiskit_experiments"
      ],
      "metadata": {
        "id": "yBX4HHRDYCMk"
      },
      "execution_count": 3,
      "outputs": []
    },
    {
      "cell_type": "code",
      "source": [
        "!pip install qiskit-aer"
      ],
      "metadata": {
        "id": "E89heQGYYGLa"
      },
      "execution_count": null,
      "outputs": []
    },
    {
      "cell_type": "code",
      "source": [
        "import qiskit_aer"
      ],
      "metadata": {
        "id": "qhbKlq5GYIqt"
      },
      "execution_count": 5,
      "outputs": []
    },
    {
      "cell_type": "code",
      "source": [
        "import numpy as np\n",
        "from qiskit.qobj.utils import MeasLevel\n",
        "from qiskit_experiments.framework import ParallelExperiment\n",
        "from qiskit_experiments.library import T1\n",
        "from qiskit_experiments.library.characterization.analysis.t1_analysis import T1KerneledAnalysis\n",
        "\n",
        "# A T1 simulator\n",
        "from qiskit.providers.fake_provider import FakePerth\n",
        "from qiskit_aer import AerSimulator\n",
        "from qiskit_aer.noise import NoiseModel\n",
        "\n",
        "# A kerneled data simulator\n",
        "from qiskit_experiments.test.mock_iq_backend import MockIQBackend\n",
        "from qiskit_experiments.test.mock_iq_helpers import MockIQT1Helper"
      ],
      "metadata": {
        "colab": {
          "base_uri": "https://localhost:8080/"
        },
        "id": "VmgpNrS_YJTD",
        "outputId": "4049d472-517d-4228-a57c-9f26f43b32aa"
      },
      "execution_count": 6,
      "outputs": [
        {
          "output_type": "stream",
          "name": "stderr",
          "text": [
            "/usr/local/lib/python3.10/dist-packages/qiskit_dynamics/dispatch/backends/jax.py:34: UserWarning: The functionality in the perturbation module of Qiskit Dynamics requires a JAX version <= 0.4.6, due to a bug in JAX versions > 0.4.6. For versions 0.4.4, 0.4.5, and 0.4.6, using the perturbation module functionality requires setting os.environ['JAX_JIT_PJIT_API_MERGE'] = '0' before importing JAX or Dynamics.\n",
            "  warnings.warn(\n"
          ]
        }
      ]
    },
    {
      "cell_type": "code",
      "source": [
        "!pip install qiskit_ibm_provider"
      ],
      "metadata": {
        "colab": {
          "base_uri": "https://localhost:8080/"
        },
        "id": "P9K-w9LIYMnB",
        "outputId": "ee66ccbf-a212-433f-e064-7e1c5a9639ab"
      },
      "execution_count": 7,
      "outputs": [
        {
          "output_type": "stream",
          "name": "stdout",
          "text": [
            "Installing collected packages: websockets, qiskit_ibm_provider\n",
            "Successfully installed qiskit_ibm_provider-0.7.0 websockets-11.0.3\n"
          ]
        }
      ]
    },
    {
      "cell_type": "code",
      "source": [
        "from qiskit_ibm_provider import IBMProvider\n",
        "from qiskit.providers.jobstatus import JobStatus\n",
        "from qiskit.qobj.utils import MeasLevel\n",
        "\n",
        "delays = np.linspace(0, 75*4, 75)\n",
        "exp = T1(physical_qubits=(0,), delays=delays)\n",
        "exp.set_run_options(shots=8000)\n",
        "\n",
        "provider = IBMProvider(token=\"e8286cff0e21dc8265d17f01d30e9dc62debe3bb6557f339f326fda4b97d2894de135f54fe2dee4e4e2319f5e7e8155b88c856b01502b8a0b9435607e4e6432e\")\n",
        "real_backend = provider.get_backend('ibm_perth')\n",
        "\n",
        "real_backend.qubit_properties(0)\n",
        "\n",
        "exp_data = exp.run(backend=real_backend)\n",
        "exp_data.job_ids #-> to see your job id’s"
      ],
      "metadata": {
        "colab": {
          "base_uri": "https://localhost:8080/"
        },
        "id": "nofjQDmPYUi4",
        "outputId": "e27b8a30-51ad-4d77-c753-639c4d05f9fc"
      },
      "execution_count": 16,
      "outputs": [
        {
          "output_type": "execute_result",
          "data": {
            "text/plain": [
              "['cmdw6v3te72g008jsg80']"
            ]
          },
          "metadata": {},
          "execution_count": 16
        }
      ]
    },
    {
      "cell_type": "code",
      "source": [
        "job_status = exp_data.status()"
      ],
      "metadata": {
        "id": "r34uA2MHYYuH"
      },
      "execution_count": 12,
      "outputs": []
    },
    {
      "cell_type": "code",
      "source": [
        "job_status\n",
        "#<ExperimentStatus.QUEUED: 'experiment jobs are queued'>"
      ],
      "metadata": {
        "colab": {
          "base_uri": "https://localhost:8080/"
        },
        "id": "y0vziYkPYZeH",
        "outputId": "90c53b6c-05d6-49ff-c162-53898da6bd68"
      },
      "execution_count": 15,
      "outputs": [
        {
          "output_type": "execute_result",
          "data": {
            "text/plain": [
              "<ExperimentStatus.QUEUED: 'experiment jobs are queued'>"
            ]
          },
          "metadata": {},
          "execution_count": 15
        }
      ]
    },
    {
      "cell_type": "code",
      "source": [
        "from qiskit_ibm_runtime import QiskitRuntimeService\n",
        "\n",
        "service = QiskitRuntimeService()\n",
        "\n",
        "service.jobs(backend_name=\"ibm_perth\")"
      ],
      "metadata": {
        "id": "QiKKvXS8YbmD"
      },
      "execution_count": null,
      "outputs": []
    }
  ]
}